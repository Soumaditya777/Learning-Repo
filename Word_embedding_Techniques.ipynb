{
  "cells": [
    {
      "cell_type": "markdown",
      "metadata": {
        "id": "view-in-github",
        "colab_type": "text"
      },
      "source": [
        "<a href=\"https://colab.research.google.com/github/Soumaditya777/Learning-Repo/blob/main/Word_embedding_Techniques.ipynb\" target=\"_parent\"><img src=\"https://colab.research.google.com/assets/colab-badge.svg\" alt=\"Open In Colab\"/></a>"
      ]
    },
    {
      "cell_type": "markdown",
      "metadata": {
        "id": "eHNf7J680XF-"
      },
      "source": [
        "### Word Embedding Techniques using Embedding Layer in Keras"
      ]
    },
    {
      "cell_type": "code",
      "execution_count": null,
      "metadata": {
        "id": "PEsK0_yl0XGB"
      },
      "outputs": [],
      "source": [
        "### Libraries USed Tensorflow> 2.0  and keras"
      ]
    },
    {
      "cell_type": "code",
      "execution_count": 2,
      "metadata": {
        "colab": {
          "base_uri": "https://localhost:8080/"
        },
        "id": "pslw1Ya90XGC",
        "outputId": "0969790c-07fb-4345-8782-1bda6170d4b8"
      },
      "outputs": [
        {
          "output_type": "stream",
          "name": "stdout",
          "text": [
            "Collecting tensorflow-gpu\n",
            "  Using cached tensorflow-gpu-2.12.0.tar.gz (2.6 kB)\n",
            "  \u001b[1;31merror\u001b[0m: \u001b[1msubprocess-exited-with-error\u001b[0m\n",
            "  \n",
            "  \u001b[31m×\u001b[0m \u001b[32mpython setup.py egg_info\u001b[0m did not run successfully.\n",
            "  \u001b[31m│\u001b[0m exit code: \u001b[1;36m1\u001b[0m\n",
            "  \u001b[31m╰─>\u001b[0m See above for output.\n",
            "  \n",
            "  \u001b[1;35mnote\u001b[0m: This error originates from a subprocess, and is likely not a problem with pip.\n",
            "  Preparing metadata (setup.py) ... \u001b[?25l\u001b[?25herror\n",
            "\u001b[1;31merror\u001b[0m: \u001b[1mmetadata-generation-failed\u001b[0m\n",
            "\n",
            "\u001b[31m×\u001b[0m Encountered error while generating package metadata.\n",
            "\u001b[31m╰─>\u001b[0m See above for output.\n",
            "\n",
            "\u001b[1;35mnote\u001b[0m: This is an issue with the package mentioned above, not pip.\n",
            "\u001b[1;36mhint\u001b[0m: See above for details.\n"
          ]
        }
      ],
      "source": [
        "!pip install tensorflow-gpu"
      ]
    },
    {
      "cell_type": "code",
      "source": [
        "import tensorflow as tf\n",
        "print(tf.__version__)"
      ],
      "metadata": {
        "colab": {
          "base_uri": "https://localhost:8080/"
        },
        "id": "yZ5hceiMAX7n",
        "outputId": "eb724dab-e35a-4022-c465-8c800f669188"
      },
      "execution_count": 3,
      "outputs": [
        {
          "output_type": "stream",
          "name": "stdout",
          "text": [
            "2.18.0\n"
          ]
        }
      ]
    },
    {
      "cell_type": "code",
      "execution_count": 4,
      "metadata": {
        "id": "k4nKifUl0XGC"
      },
      "outputs": [],
      "source": [
        "##tensorflow >2.0\n",
        "from tensorflow.keras.preprocessing.text import one_hot"
      ]
    },
    {
      "cell_type": "code",
      "source": [],
      "metadata": {
        "id": "hADTdqZTAUfS"
      },
      "execution_count": null,
      "outputs": []
    },
    {
      "cell_type": "code",
      "execution_count": 5,
      "metadata": {
        "id": "Fu9PuYeu0XGD"
      },
      "outputs": [],
      "source": [
        "### sentences\n",
        "sent=[  'the glass of milk',\n",
        "     'the glass of juice',\n",
        "     'the cup of tea',\n",
        "    'I am a good boy',\n",
        "     'I am a good developer',\n",
        "     'understand the meaning of words',\n",
        "     'your videos are good']"
      ]
    },
    {
      "cell_type": "code",
      "execution_count": 6,
      "metadata": {
        "colab": {
          "base_uri": "https://localhost:8080/"
        },
        "id": "x5d1D3_20XGD",
        "outputId": "e8543dbb-d91a-412d-99bc-870987357879"
      },
      "outputs": [
        {
          "output_type": "execute_result",
          "data": {
            "text/plain": [
              "['the glass of milk',\n",
              " 'the glass of juice',\n",
              " 'the cup of tea',\n",
              " 'I am a good boy',\n",
              " 'I am a good developer',\n",
              " 'understand the meaning of words',\n",
              " 'your videos are good']"
            ]
          },
          "metadata": {},
          "execution_count": 6
        }
      ],
      "source": [
        "sent"
      ]
    },
    {
      "cell_type": "code",
      "execution_count": 12,
      "metadata": {
        "id": "tjnXIn3B0XGE"
      },
      "outputs": [],
      "source": [
        "### Vocabulary size\n",
        "voc_size=10000"
      ]
    },
    {
      "cell_type": "markdown",
      "metadata": {
        "id": "-vQOdeKk0XGE"
      },
      "source": [
        "#### One Hot Representation"
      ]
    },
    {
      "cell_type": "code",
      "execution_count": 13,
      "metadata": {
        "colab": {
          "base_uri": "https://localhost:8080/"
        },
        "id": "gojfZpAW0XGE",
        "outputId": "2056d1fe-2f3b-4d1e-a77d-b13a818ab0c1"
      },
      "outputs": [
        {
          "output_type": "stream",
          "name": "stdout",
          "text": [
            "[[5896, 5163, 8508, 9492], [5896, 5163, 8508, 4443], [5896, 3585, 8508, 4156], [8589, 9508, 5633, 5558, 7052], [8589, 9508, 5633, 5558, 734], [5637, 5896, 4404, 8508, 2284], [7985, 5847, 8495, 5558]]\n"
          ]
        }
      ],
      "source": [
        "onehot_repr=[one_hot(words,voc_size)for words in sent]\n",
        "print(onehot_repr)"
      ]
    },
    {
      "cell_type": "markdown",
      "metadata": {
        "id": "eYG267x40XGF"
      },
      "source": [
        "### Word Embedding Represntation"
      ]
    },
    {
      "cell_type": "code",
      "execution_count": 14,
      "metadata": {
        "id": "wpqPm0tb0XGF"
      },
      "outputs": [],
      "source": [
        "from tensorflow.keras.layers import Embedding\n",
        "from tensorflow.keras.preprocessing.sequence import pad_sequences\n",
        "from tensorflow.keras.models import Sequential"
      ]
    },
    {
      "cell_type": "code",
      "execution_count": 15,
      "metadata": {
        "id": "Rov3GTM00XGG"
      },
      "outputs": [],
      "source": [
        "import numpy as np"
      ]
    },
    {
      "cell_type": "code",
      "execution_count": 35,
      "metadata": {
        "colab": {
          "base_uri": "https://localhost:8080/"
        },
        "id": "8fQLPw6p0XGG",
        "outputId": "85bb306e-2d65-46f6-e158-da78a836df22"
      },
      "outputs": [
        {
          "output_type": "stream",
          "name": "stdout",
          "text": [
            "[[   0    0    0    0 5896 5163 8508 9492]\n",
            " [   0    0    0    0 5896 5163 8508 4443]\n",
            " [   0    0    0    0 5896 3585 8508 4156]\n",
            " [   0    0    0 8589 9508 5633 5558 7052]\n",
            " [   0    0    0 8589 9508 5633 5558  734]\n",
            " [   0    0    0 5637 5896 4404 8508 2284]\n",
            " [   0    0    0    0 7985 5847 8495 5558]]\n"
          ]
        }
      ],
      "source": [
        "## pre padding\n",
        "sent_length=8\n",
        "embedded_docs=pad_sequences(onehot_repr,padding='pre',maxlen=sent_length)\n",
        "print(embedded_docs)"
      ]
    },
    {
      "cell_type": "code",
      "execution_count": 17,
      "metadata": {
        "id": "yjQqBYac0XGG"
      },
      "outputs": [],
      "source": [
        "## 10 feature dimesnions\n",
        "dim=10\n"
      ]
    },
    {
      "cell_type": "code",
      "execution_count": 18,
      "metadata": {
        "id": "ozC-TXrt0XGG",
        "colab": {
          "base_uri": "https://localhost:8080/"
        },
        "outputId": "898167b7-8dc7-406d-a832-b0c922a5e238"
      },
      "outputs": [
        {
          "output_type": "stream",
          "name": "stderr",
          "text": [
            "/usr/local/lib/python3.11/dist-packages/keras/src/layers/core/embedding.py:90: UserWarning: Argument `input_length` is deprecated. Just remove it.\n",
            "  warnings.warn(\n"
          ]
        }
      ],
      "source": [
        "model=Sequential()\n",
        "model.add(Embedding(voc_size,10,input_length=sent_length))\n",
        "model.compile('adam','mse')"
      ]
    },
    {
      "cell_type": "code",
      "execution_count": null,
      "metadata": {
        "colab": {
          "base_uri": "https://localhost:8080/"
        },
        "id": "tMNvq-Ji0XGH",
        "outputId": "8bde65d1-06cf-4f8b-9767-28077ff2aeca"
      },
      "outputs": [
        {
          "output_type": "stream",
          "name": "stdout",
          "text": [
            "Model: \"sequential\"\n",
            "_________________________________________________________________\n",
            " Layer (type)                Output Shape              Param #   \n",
            "=================================================================\n",
            " embedding (Embedding)       (None, 8, 10)             5000      \n",
            "                                                                 \n",
            "=================================================================\n",
            "Total params: 5,000\n",
            "Trainable params: 5,000\n",
            "Non-trainable params: 0\n",
            "_________________________________________________________________\n"
          ]
        }
      ],
      "source": [
        "model.summary()"
      ]
    },
    {
      "cell_type": "code",
      "source": [
        "##'the glass of milk',\n",
        "embedded_docs[0]"
      ],
      "metadata": {
        "colab": {
          "base_uri": "https://localhost:8080/"
        },
        "id": "FC4Ess_FEcb3",
        "outputId": "6e4bec4a-37d1-4861-caaa-4ad4600ea6d1"
      },
      "execution_count": 19,
      "outputs": [
        {
          "output_type": "execute_result",
          "data": {
            "text/plain": [
              "array([   0,    0,    0,    0, 5896, 5163, 8508, 9492], dtype=int32)"
            ]
          },
          "metadata": {},
          "execution_count": 19
        }
      ]
    },
    {
      "cell_type": "code",
      "source": [
        "model.predict(embedded_docs[0])"
      ],
      "metadata": {
        "colab": {
          "base_uri": "https://localhost:8080/"
        },
        "id": "bRqEvMBYEZUS",
        "outputId": "021bd422-238e-4a3f-daa2-09323ef3153a"
      },
      "execution_count": null,
      "outputs": [
        {
          "output_type": "stream",
          "name": "stdout",
          "text": [
            "WARNING:tensorflow:Model was constructed with shape (None, 8) for input KerasTensor(type_spec=TensorSpec(shape=(None, 8), dtype=tf.float32, name='embedding_input'), name='embedding_input', description=\"created by layer 'embedding_input'\"), but it was called on an input with incompatible shape (None,).\n",
            "1/1 [==============================] - 0s 72ms/step\n"
          ]
        },
        {
          "output_type": "execute_result",
          "data": {
            "text/plain": [
              "array([[ 0.03938437, -0.02009605, -0.03878935, -0.04955565,  0.00419912,\n",
              "        -0.01431773,  0.02523251,  0.01653036,  0.04291571, -0.00864979],\n",
              "       [ 0.03938437, -0.02009605, -0.03878935, -0.04955565,  0.00419912,\n",
              "        -0.01431773,  0.02523251,  0.01653036,  0.04291571, -0.00864979],\n",
              "       [ 0.03938437, -0.02009605, -0.03878935, -0.04955565,  0.00419912,\n",
              "        -0.01431773,  0.02523251,  0.01653036,  0.04291571, -0.00864979],\n",
              "       [ 0.03938437, -0.02009605, -0.03878935, -0.04955565,  0.00419912,\n",
              "        -0.01431773,  0.02523251,  0.01653036,  0.04291571, -0.00864979],\n",
              "       [ 0.03059326, -0.04286614,  0.00899569,  0.00743791, -0.000781  ,\n",
              "         0.04186494,  0.03977301,  0.00326709,  0.00619651, -0.01993654],\n",
              "       [ 0.02512412, -0.0087087 ,  0.03144198,  0.00704668, -0.00177735,\n",
              "        -0.03415867, -0.00100178,  0.01562483,  0.03178963,  0.02784893],\n",
              "       [-0.00653008,  0.02340979, -0.01967902, -0.00494973, -0.02693756,\n",
              "        -0.03746525,  0.01460877, -0.00449115, -0.00130982, -0.0039017 ],\n",
              "       [-0.03150218,  0.01950303, -0.01415605, -0.00183152,  0.01207731,\n",
              "         0.02444079,  0.0140041 ,  0.0070256 ,  0.04950741, -0.03602346]],\n",
              "      dtype=float32)"
            ]
          },
          "metadata": {},
          "execution_count": 21
        }
      ]
    },
    {
      "cell_type": "code",
      "execution_count": 20,
      "metadata": {
        "colab": {
          "base_uri": "https://localhost:8080/"
        },
        "id": "kzKP69gx0XGH",
        "outputId": "ffc6768d-8952-4d89-d862-2b891032b242"
      },
      "outputs": [
        {
          "output_type": "stream",
          "name": "stdout",
          "text": [
            "\u001b[1m1/1\u001b[0m \u001b[32m━━━━━━━━━━━━━━━━━━━━\u001b[0m\u001b[37m\u001b[0m \u001b[1m1s\u001b[0m 737ms/step\n",
            "[[[-4.03623655e-03  3.57888825e-02 -2.73850914e-02 -2.63651256e-02\n",
            "   -2.46404894e-02 -3.26929241e-02  1.57370605e-02 -3.21861506e-02\n",
            "   -8.38320330e-03  1.88927092e-02]\n",
            "  [-4.03623655e-03  3.57888825e-02 -2.73850914e-02 -2.63651256e-02\n",
            "   -2.46404894e-02 -3.26929241e-02  1.57370605e-02 -3.21861506e-02\n",
            "   -8.38320330e-03  1.88927092e-02]\n",
            "  [-4.03623655e-03  3.57888825e-02 -2.73850914e-02 -2.63651256e-02\n",
            "   -2.46404894e-02 -3.26929241e-02  1.57370605e-02 -3.21861506e-02\n",
            "   -8.38320330e-03  1.88927092e-02]\n",
            "  [-4.03623655e-03  3.57888825e-02 -2.73850914e-02 -2.63651256e-02\n",
            "   -2.46404894e-02 -3.26929241e-02  1.57370605e-02 -3.21861506e-02\n",
            "   -8.38320330e-03  1.88927092e-02]\n",
            "  [ 4.52671535e-02  2.52691768e-02  4.91959564e-02  3.41257192e-02\n",
            "   -2.71412265e-02 -3.54504362e-02 -4.62761521e-02  9.74501297e-03\n",
            "    4.31476273e-02 -3.06700598e-02]\n",
            "  [ 2.51817740e-02  2.27102377e-02  3.50487866e-02  1.08528733e-02\n",
            "   -9.93204117e-03 -3.30973156e-02 -3.82871740e-02 -4.12067026e-03\n",
            "   -2.13807467e-02 -4.91695479e-03]\n",
            "  [ 4.46712710e-02  3.94831188e-02 -2.77411472e-02 -4.68294621e-02\n",
            "    1.63849704e-02  7.38905743e-03 -3.37722190e-02  3.56429555e-02\n",
            "    2.35355161e-02 -1.77868232e-02]\n",
            "  [ 2.56158412e-04  3.15907262e-02  2.00176127e-02 -4.52064648e-02\n",
            "    2.48071812e-02  1.10680461e-02  3.56972218e-04 -3.24118733e-02\n",
            "    2.18952410e-02 -1.37976408e-02]]\n",
            "\n",
            " [[-4.03623655e-03  3.57888825e-02 -2.73850914e-02 -2.63651256e-02\n",
            "   -2.46404894e-02 -3.26929241e-02  1.57370605e-02 -3.21861506e-02\n",
            "   -8.38320330e-03  1.88927092e-02]\n",
            "  [-4.03623655e-03  3.57888825e-02 -2.73850914e-02 -2.63651256e-02\n",
            "   -2.46404894e-02 -3.26929241e-02  1.57370605e-02 -3.21861506e-02\n",
            "   -8.38320330e-03  1.88927092e-02]\n",
            "  [-4.03623655e-03  3.57888825e-02 -2.73850914e-02 -2.63651256e-02\n",
            "   -2.46404894e-02 -3.26929241e-02  1.57370605e-02 -3.21861506e-02\n",
            "   -8.38320330e-03  1.88927092e-02]\n",
            "  [-4.03623655e-03  3.57888825e-02 -2.73850914e-02 -2.63651256e-02\n",
            "   -2.46404894e-02 -3.26929241e-02  1.57370605e-02 -3.21861506e-02\n",
            "   -8.38320330e-03  1.88927092e-02]\n",
            "  [ 4.52671535e-02  2.52691768e-02  4.91959564e-02  3.41257192e-02\n",
            "   -2.71412265e-02 -3.54504362e-02 -4.62761521e-02  9.74501297e-03\n",
            "    4.31476273e-02 -3.06700598e-02]\n",
            "  [ 2.51817740e-02  2.27102377e-02  3.50487866e-02  1.08528733e-02\n",
            "   -9.93204117e-03 -3.30973156e-02 -3.82871740e-02 -4.12067026e-03\n",
            "   -2.13807467e-02 -4.91695479e-03]\n",
            "  [ 4.46712710e-02  3.94831188e-02 -2.77411472e-02 -4.68294621e-02\n",
            "    1.63849704e-02  7.38905743e-03 -3.37722190e-02  3.56429555e-02\n",
            "    2.35355161e-02 -1.77868232e-02]\n",
            "  [-2.43515968e-02  2.13094018e-02 -1.28013976e-02  3.06887738e-02\n",
            "   -1.94280036e-02  1.26689672e-03 -1.75985210e-02  1.10092983e-02\n",
            "    8.32246616e-03  1.02381930e-02]]\n",
            "\n",
            " [[-4.03623655e-03  3.57888825e-02 -2.73850914e-02 -2.63651256e-02\n",
            "   -2.46404894e-02 -3.26929241e-02  1.57370605e-02 -3.21861506e-02\n",
            "   -8.38320330e-03  1.88927092e-02]\n",
            "  [-4.03623655e-03  3.57888825e-02 -2.73850914e-02 -2.63651256e-02\n",
            "   -2.46404894e-02 -3.26929241e-02  1.57370605e-02 -3.21861506e-02\n",
            "   -8.38320330e-03  1.88927092e-02]\n",
            "  [-4.03623655e-03  3.57888825e-02 -2.73850914e-02 -2.63651256e-02\n",
            "   -2.46404894e-02 -3.26929241e-02  1.57370605e-02 -3.21861506e-02\n",
            "   -8.38320330e-03  1.88927092e-02]\n",
            "  [-4.03623655e-03  3.57888825e-02 -2.73850914e-02 -2.63651256e-02\n",
            "   -2.46404894e-02 -3.26929241e-02  1.57370605e-02 -3.21861506e-02\n",
            "   -8.38320330e-03  1.88927092e-02]\n",
            "  [ 4.52671535e-02  2.52691768e-02  4.91959564e-02  3.41257192e-02\n",
            "   -2.71412265e-02 -3.54504362e-02 -4.62761521e-02  9.74501297e-03\n",
            "    4.31476273e-02 -3.06700598e-02]\n",
            "  [ 5.73437288e-03  1.03882663e-02 -3.17194946e-02  2.54117511e-02\n",
            "   -4.83170152e-05  1.73830129e-02  2.88343430e-03  1.13223903e-02\n",
            "    6.21976703e-03  1.67320631e-02]\n",
            "  [ 4.46712710e-02  3.94831188e-02 -2.77411472e-02 -4.68294621e-02\n",
            "    1.63849704e-02  7.38905743e-03 -3.37722190e-02  3.56429555e-02\n",
            "    2.35355161e-02 -1.77868232e-02]\n",
            "  [-3.79131809e-02  1.64464973e-02 -4.81241941e-03 -2.55431775e-02\n",
            "   -2.98504829e-02  1.44696347e-02 -6.37739897e-03 -9.67554003e-03\n",
            "   -2.72911321e-02  2.18858160e-02]]\n",
            "\n",
            " [[-4.03623655e-03  3.57888825e-02 -2.73850914e-02 -2.63651256e-02\n",
            "   -2.46404894e-02 -3.26929241e-02  1.57370605e-02 -3.21861506e-02\n",
            "   -8.38320330e-03  1.88927092e-02]\n",
            "  [-4.03623655e-03  3.57888825e-02 -2.73850914e-02 -2.63651256e-02\n",
            "   -2.46404894e-02 -3.26929241e-02  1.57370605e-02 -3.21861506e-02\n",
            "   -8.38320330e-03  1.88927092e-02]\n",
            "  [-4.03623655e-03  3.57888825e-02 -2.73850914e-02 -2.63651256e-02\n",
            "   -2.46404894e-02 -3.26929241e-02  1.57370605e-02 -3.21861506e-02\n",
            "   -8.38320330e-03  1.88927092e-02]\n",
            "  [-2.87181735e-02 -1.81722753e-02 -2.16969009e-02 -1.07307062e-02\n",
            "    3.67478840e-02  1.28322951e-02  3.99391316e-02 -7.15340301e-03\n",
            "    3.11429836e-02  1.85598843e-02]\n",
            "  [-1.23848431e-02  4.85912822e-02 -3.15251499e-02  2.21764557e-02\n",
            "   -4.50756550e-02  3.76170017e-02  3.73934768e-02 -3.83551940e-02\n",
            "   -8.83597136e-03 -2.81235818e-02]\n",
            "  [-4.67470661e-02  1.30438693e-02  1.81231238e-02  2.44533159e-02\n",
            "   -1.45347603e-02 -1.04085207e-02  4.12187912e-02 -3.27307358e-02\n",
            "   -1.68820992e-02 -3.13337818e-02]\n",
            "  [ 2.54233927e-03  4.19950970e-02  4.93313707e-02  2.37977393e-02\n",
            "   -1.15121379e-02 -1.95477493e-02  9.41552967e-03  8.74372572e-03\n",
            "    3.26228403e-02 -3.20973881e-02]\n",
            "  [-4.86091636e-02  4.82163690e-02 -1.35350972e-04 -2.02879310e-02\n",
            "    3.80608104e-02 -5.87622076e-03 -2.12556720e-02 -1.50511377e-02\n",
            "   -1.60507075e-02 -2.07337029e-02]]\n",
            "\n",
            " [[-4.03623655e-03  3.57888825e-02 -2.73850914e-02 -2.63651256e-02\n",
            "   -2.46404894e-02 -3.26929241e-02  1.57370605e-02 -3.21861506e-02\n",
            "   -8.38320330e-03  1.88927092e-02]\n",
            "  [-4.03623655e-03  3.57888825e-02 -2.73850914e-02 -2.63651256e-02\n",
            "   -2.46404894e-02 -3.26929241e-02  1.57370605e-02 -3.21861506e-02\n",
            "   -8.38320330e-03  1.88927092e-02]\n",
            "  [-4.03623655e-03  3.57888825e-02 -2.73850914e-02 -2.63651256e-02\n",
            "   -2.46404894e-02 -3.26929241e-02  1.57370605e-02 -3.21861506e-02\n",
            "   -8.38320330e-03  1.88927092e-02]\n",
            "  [-2.87181735e-02 -1.81722753e-02 -2.16969009e-02 -1.07307062e-02\n",
            "    3.67478840e-02  1.28322951e-02  3.99391316e-02 -7.15340301e-03\n",
            "    3.11429836e-02  1.85598843e-02]\n",
            "  [-1.23848431e-02  4.85912822e-02 -3.15251499e-02  2.21764557e-02\n",
            "   -4.50756550e-02  3.76170017e-02  3.73934768e-02 -3.83551940e-02\n",
            "   -8.83597136e-03 -2.81235818e-02]\n",
            "  [-4.67470661e-02  1.30438693e-02  1.81231238e-02  2.44533159e-02\n",
            "   -1.45347603e-02 -1.04085207e-02  4.12187912e-02 -3.27307358e-02\n",
            "   -1.68820992e-02 -3.13337818e-02]\n",
            "  [ 2.54233927e-03  4.19950970e-02  4.93313707e-02  2.37977393e-02\n",
            "   -1.15121379e-02 -1.95477493e-02  9.41552967e-03  8.74372572e-03\n",
            "    3.26228403e-02 -3.20973881e-02]\n",
            "  [-4.70066443e-02 -3.28902975e-02 -3.98530476e-02  2.80955099e-02\n",
            "    2.61272453e-02  1.40253790e-02  8.59818608e-03 -4.23365496e-02\n",
            "    3.34606059e-02 -4.87717986e-02]]\n",
            "\n",
            " [[-4.03623655e-03  3.57888825e-02 -2.73850914e-02 -2.63651256e-02\n",
            "   -2.46404894e-02 -3.26929241e-02  1.57370605e-02 -3.21861506e-02\n",
            "   -8.38320330e-03  1.88927092e-02]\n",
            "  [-4.03623655e-03  3.57888825e-02 -2.73850914e-02 -2.63651256e-02\n",
            "   -2.46404894e-02 -3.26929241e-02  1.57370605e-02 -3.21861506e-02\n",
            "   -8.38320330e-03  1.88927092e-02]\n",
            "  [-4.03623655e-03  3.57888825e-02 -2.73850914e-02 -2.63651256e-02\n",
            "   -2.46404894e-02 -3.26929241e-02  1.57370605e-02 -3.21861506e-02\n",
            "   -8.38320330e-03  1.88927092e-02]\n",
            "  [ 3.28410305e-02 -1.11044534e-02 -2.34937426e-02  4.01446857e-02\n",
            "    4.50822748e-02 -2.65770312e-02 -2.39642393e-02 -4.30455320e-02\n",
            "    4.93315496e-02 -3.52063403e-02]\n",
            "  [ 4.52671535e-02  2.52691768e-02  4.91959564e-02  3.41257192e-02\n",
            "   -2.71412265e-02 -3.54504362e-02 -4.62761521e-02  9.74501297e-03\n",
            "    4.31476273e-02 -3.06700598e-02]\n",
            "  [-1.19431615e-02 -1.80247203e-02  4.15570475e-02 -2.95136571e-02\n",
            "    3.20695154e-02 -4.18383852e-02 -8.53170082e-03  2.38292702e-02\n",
            "    1.28735937e-02  2.92619132e-02]\n",
            "  [ 4.46712710e-02  3.94831188e-02 -2.77411472e-02 -4.68294621e-02\n",
            "    1.63849704e-02  7.38905743e-03 -3.37722190e-02  3.56429555e-02\n",
            "    2.35355161e-02 -1.77868232e-02]\n",
            "  [-4.85284925e-02 -3.98214459e-02 -9.92111117e-03 -1.55190341e-02\n",
            "    2.46868469e-02  6.52356073e-03  3.06679271e-02 -3.87210958e-02\n",
            "    3.97078134e-02 -2.95082331e-02]]\n",
            "\n",
            " [[-4.03623655e-03  3.57888825e-02 -2.73850914e-02 -2.63651256e-02\n",
            "   -2.46404894e-02 -3.26929241e-02  1.57370605e-02 -3.21861506e-02\n",
            "   -8.38320330e-03  1.88927092e-02]\n",
            "  [-4.03623655e-03  3.57888825e-02 -2.73850914e-02 -2.63651256e-02\n",
            "   -2.46404894e-02 -3.26929241e-02  1.57370605e-02 -3.21861506e-02\n",
            "   -8.38320330e-03  1.88927092e-02]\n",
            "  [-4.03623655e-03  3.57888825e-02 -2.73850914e-02 -2.63651256e-02\n",
            "   -2.46404894e-02 -3.26929241e-02  1.57370605e-02 -3.21861506e-02\n",
            "   -8.38320330e-03  1.88927092e-02]\n",
            "  [-4.03623655e-03  3.57888825e-02 -2.73850914e-02 -2.63651256e-02\n",
            "   -2.46404894e-02 -3.26929241e-02  1.57370605e-02 -3.21861506e-02\n",
            "   -8.38320330e-03  1.88927092e-02]\n",
            "  [ 4.30123843e-02  3.33914645e-02  4.62126732e-03  3.69025953e-02\n",
            "   -4.92711663e-02 -4.00411263e-02 -1.03739724e-02  3.06662954e-02\n",
            "   -2.53992211e-02  1.46189444e-02]\n",
            "  [-1.37965679e-02 -1.57564655e-02  2.96852738e-03  2.74602659e-02\n",
            "   -1.44993775e-02  3.20407487e-02  4.17275913e-02  1.36673115e-02\n",
            "    1.86410807e-02  9.81032848e-04]\n",
            "  [ 1.28181241e-02 -1.62996873e-02  5.12005016e-03  3.58842947e-02\n",
            "    1.98385604e-02 -3.44996452e-02 -1.49022341e-02 -1.14194974e-02\n",
            "    3.77675146e-03 -4.47760224e-02]\n",
            "  [ 2.54233927e-03  4.19950970e-02  4.93313707e-02  2.37977393e-02\n",
            "   -1.15121379e-02 -1.95477493e-02  9.41552967e-03  8.74372572e-03\n",
            "    3.26228403e-02 -3.20973881e-02]]]\n"
          ]
        }
      ],
      "source": [
        "print(model.predict(embedded_docs))"
      ]
    },
    {
      "cell_type": "code",
      "execution_count": 21,
      "metadata": {
        "id": "JuUxfk7d0XGH",
        "outputId": "39dc7690-d39b-4367-a6b8-c44351e29d1e",
        "colab": {
          "base_uri": "https://localhost:8080/"
        }
      },
      "outputs": [
        {
          "output_type": "execute_result",
          "data": {
            "text/plain": [
              "array([   0,    0,    0,    0, 5896, 5163, 8508, 9492], dtype=int32)"
            ]
          },
          "metadata": {},
          "execution_count": 21
        }
      ],
      "source": [
        "embedded_docs[0]"
      ]
    },
    {
      "cell_type": "code",
      "execution_count": 22,
      "metadata": {
        "id": "6JJ_zD0u0XGH",
        "outputId": "40476982-7d8a-45ca-d6ed-8658b809408f",
        "colab": {
          "base_uri": "https://localhost:8080/"
        }
      },
      "outputs": [
        {
          "output_type": "stream",
          "name": "stdout",
          "text": [
            "\u001b[1m1/1\u001b[0m \u001b[32m━━━━━━━━━━━━━━━━━━━━\u001b[0m\u001b[37m\u001b[0m \u001b[1m0s\u001b[0m 28ms/step\n",
            "[[-0.00403624  0.03578888 -0.02738509 -0.02636513 -0.02464049 -0.03269292\n",
            "   0.01573706 -0.03218615 -0.0083832   0.01889271]\n",
            " [-0.00403624  0.03578888 -0.02738509 -0.02636513 -0.02464049 -0.03269292\n",
            "   0.01573706 -0.03218615 -0.0083832   0.01889271]\n",
            " [-0.00403624  0.03578888 -0.02738509 -0.02636513 -0.02464049 -0.03269292\n",
            "   0.01573706 -0.03218615 -0.0083832   0.01889271]\n",
            " [-0.00403624  0.03578888 -0.02738509 -0.02636513 -0.02464049 -0.03269292\n",
            "   0.01573706 -0.03218615 -0.0083832   0.01889271]\n",
            " [ 0.04526715  0.02526918  0.04919596  0.03412572 -0.02714123 -0.03545044\n",
            "  -0.04627615  0.00974501  0.04314763 -0.03067006]\n",
            " [ 0.02518177  0.02271024  0.03504879  0.01085287 -0.00993204 -0.03309732\n",
            "  -0.03828717 -0.00412067 -0.02138075 -0.00491695]\n",
            " [ 0.04467127  0.03948312 -0.02774115 -0.04682946  0.01638497  0.00738906\n",
            "  -0.03377222  0.03564296  0.02353552 -0.01778682]\n",
            " [ 0.00025616  0.03159073  0.02001761 -0.04520646  0.02480718  0.01106805\n",
            "   0.00035697 -0.03241187  0.02189524 -0.01379764]]\n"
          ]
        }
      ],
      "source": [
        "print(model.predict(embedded_docs)[0])"
      ]
    },
    {
      "cell_type": "code",
      "execution_count": 25,
      "metadata": {
        "id": "8OMu3iAz0XGH"
      },
      "outputs": [],
      "source": [
        "### Assignment\n",
        "\n",
        "sent2=[\"The world is a better place\",\n",
        "      \"Marvel series is my favourite movie\",\n",
        "      \"I like DC movies\",\n",
        "      \"the cat is eating the food\",\n",
        "      \"Tom and Jerry is my favourite movie\",\n",
        "      \"Python is my favourite programming language\"\n",
        "      ]"
      ]
    },
    {
      "cell_type": "code",
      "source": [
        "sent2"
      ],
      "metadata": {
        "colab": {
          "base_uri": "https://localhost:8080/"
        },
        "id": "WCTKfcFCUeN3",
        "outputId": "5fa688db-d9fd-4404-edb3-d6c9c315504f"
      },
      "execution_count": 36,
      "outputs": [
        {
          "output_type": "execute_result",
          "data": {
            "text/plain": [
              "['The world is a better place',\n",
              " 'Marvel series is my favourite movie',\n",
              " 'I like DC movies',\n",
              " 'the cat is eating the food',\n",
              " 'Tom and Jerry is my favourite movie',\n",
              " 'Python is my favourite programming language']"
            ]
          },
          "metadata": {},
          "execution_count": 36
        }
      ]
    },
    {
      "cell_type": "code",
      "source": [
        "onehot_repr=[one_hot(words,voc_size)for words in sent2]\n",
        "print(onehot_repr)"
      ],
      "metadata": {
        "colab": {
          "base_uri": "https://localhost:8080/"
        },
        "id": "bTFND7gtVubp",
        "outputId": "80878560-61f5-4a62-b476-868d5afc2a91"
      },
      "execution_count": 41,
      "outputs": [
        {
          "output_type": "stream",
          "name": "stdout",
          "text": [
            "[[5896, 3956, 7763, 5633, 1528, 4072], [7951, 2061, 7763, 5678, 9045, 3873], [8589, 973, 2480, 8259], [5896, 604, 7763, 4122, 5896, 3000], [9056, 6872, 7918, 7763, 5678, 9045, 3873], [3218, 7763, 5678, 9045, 2170, 1171]]\n"
          ]
        }
      ]
    },
    {
      "cell_type": "code",
      "source": [
        "sent2_length=8\n",
        "embedded_docs2=pad_sequences(onehot_repr,padding='post',maxlen=sent2_length)\n",
        "print(embedded_docs2)"
      ],
      "metadata": {
        "colab": {
          "base_uri": "https://localhost:8080/"
        },
        "id": "ml7jiVLnVLQb",
        "outputId": "f1092c74-260b-4772-9861-7eb866c4d6c2"
      },
      "execution_count": 44,
      "outputs": [
        {
          "output_type": "stream",
          "name": "stdout",
          "text": [
            "[[5896 3956 7763 5633 1528 4072    0    0]\n",
            " [7951 2061 7763 5678 9045 3873    0    0]\n",
            " [8589  973 2480 8259    0    0    0    0]\n",
            " [5896  604 7763 4122 5896 3000    0    0]\n",
            " [9056 6872 7918 7763 5678 9045 3873    0]\n",
            " [3218 7763 5678 9045 2170 1171    0    0]]\n"
          ]
        }
      ]
    },
    {
      "cell_type": "code",
      "source": [
        "voc_size=10000"
      ],
      "metadata": {
        "id": "l5D0NVylVY7q"
      },
      "execution_count": 43,
      "outputs": []
    },
    {
      "cell_type": "code",
      "source": [
        "dim=10"
      ],
      "metadata": {
        "id": "BgvWR4MYV4xc"
      },
      "execution_count": 45,
      "outputs": []
    },
    {
      "cell_type": "code",
      "source": [
        "model=Sequential()\n",
        "model.add(Embedding(voc_size,10,input_length=sent_length))\n",
        "model.compile('adam','mse')"
      ],
      "metadata": {
        "colab": {
          "base_uri": "https://localhost:8080/"
        },
        "id": "eoXsMJXSWAJk",
        "outputId": "68720ca4-a7a6-41b4-803f-b878de29ce8f"
      },
      "execution_count": 46,
      "outputs": [
        {
          "output_type": "stream",
          "name": "stderr",
          "text": [
            "/usr/local/lib/python3.11/dist-packages/keras/src/layers/core/embedding.py:90: UserWarning: Argument `input_length` is deprecated. Just remove it.\n",
            "  warnings.warn(\n"
          ]
        }
      ]
    },
    {
      "cell_type": "code",
      "source": [
        "model.summary()"
      ],
      "metadata": {
        "colab": {
          "base_uri": "https://localhost:8080/",
          "height": 164
        },
        "id": "ZCXmDBhKWD5r",
        "outputId": "64ca2a91-381b-4d24-caec-7b8eaaf611ee"
      },
      "execution_count": 47,
      "outputs": [
        {
          "output_type": "display_data",
          "data": {
            "text/plain": [
              "\u001b[1mModel: \"sequential_1\"\u001b[0m\n"
            ],
            "text/html": [
              "<pre style=\"white-space:pre;overflow-x:auto;line-height:normal;font-family:Menlo,'DejaVu Sans Mono',consolas,'Courier New',monospace\"><span style=\"font-weight: bold\">Model: \"sequential_1\"</span>\n",
              "</pre>\n"
            ]
          },
          "metadata": {}
        },
        {
          "output_type": "display_data",
          "data": {
            "text/plain": [
              "┏━━━━━━━━━━━━━━━━━━━━━━━━━━━━━━━━━┳━━━━━━━━━━━━━━━━━━━━━━━━┳━━━━━━━━━━━━━━━┓\n",
              "┃\u001b[1m \u001b[0m\u001b[1mLayer (type)                   \u001b[0m\u001b[1m \u001b[0m┃\u001b[1m \u001b[0m\u001b[1mOutput Shape          \u001b[0m\u001b[1m \u001b[0m┃\u001b[1m \u001b[0m\u001b[1m      Param #\u001b[0m\u001b[1m \u001b[0m┃\n",
              "┡━━━━━━━━━━━━━━━━━━━━━━━━━━━━━━━━━╇━━━━━━━━━━━━━━━━━━━━━━━━╇━━━━━━━━━━━━━━━┩\n",
              "│ embedding_1 (\u001b[38;5;33mEmbedding\u001b[0m)         │ ?                      │   \u001b[38;5;34m0\u001b[0m (unbuilt) │\n",
              "└─────────────────────────────────┴────────────────────────┴───────────────┘\n"
            ],
            "text/html": [
              "<pre style=\"white-space:pre;overflow-x:auto;line-height:normal;font-family:Menlo,'DejaVu Sans Mono',consolas,'Courier New',monospace\">┏━━━━━━━━━━━━━━━━━━━━━━━━━━━━━━━━━┳━━━━━━━━━━━━━━━━━━━━━━━━┳━━━━━━━━━━━━━━━┓\n",
              "┃<span style=\"font-weight: bold\"> Layer (type)                    </span>┃<span style=\"font-weight: bold\"> Output Shape           </span>┃<span style=\"font-weight: bold\">       Param # </span>┃\n",
              "┡━━━━━━━━━━━━━━━━━━━━━━━━━━━━━━━━━╇━━━━━━━━━━━━━━━━━━━━━━━━╇━━━━━━━━━━━━━━━┩\n",
              "│ embedding_1 (<span style=\"color: #0087ff; text-decoration-color: #0087ff\">Embedding</span>)         │ ?                      │   <span style=\"color: #00af00; text-decoration-color: #00af00\">0</span> (unbuilt) │\n",
              "└─────────────────────────────────┴────────────────────────┴───────────────┘\n",
              "</pre>\n"
            ]
          },
          "metadata": {}
        },
        {
          "output_type": "display_data",
          "data": {
            "text/plain": [
              "\u001b[1m Total params: \u001b[0m\u001b[38;5;34m0\u001b[0m (0.00 B)\n"
            ],
            "text/html": [
              "<pre style=\"white-space:pre;overflow-x:auto;line-height:normal;font-family:Menlo,'DejaVu Sans Mono',consolas,'Courier New',monospace\"><span style=\"font-weight: bold\"> Total params: </span><span style=\"color: #00af00; text-decoration-color: #00af00\">0</span> (0.00 B)\n",
              "</pre>\n"
            ]
          },
          "metadata": {}
        },
        {
          "output_type": "display_data",
          "data": {
            "text/plain": [
              "\u001b[1m Trainable params: \u001b[0m\u001b[38;5;34m0\u001b[0m (0.00 B)\n"
            ],
            "text/html": [
              "<pre style=\"white-space:pre;overflow-x:auto;line-height:normal;font-family:Menlo,'DejaVu Sans Mono',consolas,'Courier New',monospace\"><span style=\"font-weight: bold\"> Trainable params: </span><span style=\"color: #00af00; text-decoration-color: #00af00\">0</span> (0.00 B)\n",
              "</pre>\n"
            ]
          },
          "metadata": {}
        },
        {
          "output_type": "display_data",
          "data": {
            "text/plain": [
              "\u001b[1m Non-trainable params: \u001b[0m\u001b[38;5;34m0\u001b[0m (0.00 B)\n"
            ],
            "text/html": [
              "<pre style=\"white-space:pre;overflow-x:auto;line-height:normal;font-family:Menlo,'DejaVu Sans Mono',consolas,'Courier New',monospace\"><span style=\"font-weight: bold\"> Non-trainable params: </span><span style=\"color: #00af00; text-decoration-color: #00af00\">0</span> (0.00 B)\n",
              "</pre>\n"
            ]
          },
          "metadata": {}
        }
      ]
    },
    {
      "cell_type": "code",
      "source": [
        "embedded_docs2"
      ],
      "metadata": {
        "colab": {
          "base_uri": "https://localhost:8080/"
        },
        "id": "V5tBvo_MWGNt",
        "outputId": "22c949ff-3a80-4d07-d5c1-bd0d4b1a62b0"
      },
      "execution_count": 51,
      "outputs": [
        {
          "output_type": "execute_result",
          "data": {
            "text/plain": [
              "array([[5896, 3956, 7763, 5633, 1528, 4072,    0,    0],\n",
              "       [7951, 2061, 7763, 5678, 9045, 3873,    0,    0],\n",
              "       [8589,  973, 2480, 8259,    0,    0,    0,    0],\n",
              "       [5896,  604, 7763, 4122, 5896, 3000,    0,    0],\n",
              "       [9056, 6872, 7918, 7763, 5678, 9045, 3873,    0],\n",
              "       [3218, 7763, 5678, 9045, 2170, 1171,    0,    0]], dtype=int32)"
            ]
          },
          "metadata": {},
          "execution_count": 51
        }
      ]
    }
  ],
  "metadata": {
    "kernelspec": {
      "display_name": "Python 3",
      "name": "python3"
    },
    "language_info": {
      "codemirror_mode": {
        "name": "ipython",
        "version": 3
      },
      "file_extension": ".py",
      "mimetype": "text/x-python",
      "name": "python",
      "nbconvert_exporter": "python",
      "pygments_lexer": "ipython3",
      "version": "3.7.4"
    },
    "colab": {
      "provenance": [],
      "gpuType": "T4",
      "include_colab_link": true
    },
    "accelerator": "GPU"
  },
  "nbformat": 4,
  "nbformat_minor": 0
}